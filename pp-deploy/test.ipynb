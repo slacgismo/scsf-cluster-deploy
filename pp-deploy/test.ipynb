{
 "cells": [
  {
   "cell_type": "code",
   "execution_count": 2,
   "metadata": {},
   "outputs": [],
   "source": [
    "import math, sys, time\n",
    "import pp"
   ]
  },
  {
   "cell_type": "code",
   "execution_count": 3,
   "metadata": {},
   "outputs": [],
   "source": [
    "def isprime(n):\n",
    "    \"\"\"Returns True if n is prime and False otherwise\"\"\"\n",
    "    if not isinstance(n, int):\n",
    "        raise TypeError(\"argument passed to is_prime is not of 'int' type\")\n",
    "    if n < 2:\n",
    "        return False\n",
    "    if n == 2:\n",
    "        return True\n",
    "    max = int(math.ceil(math.sqrt(n)))\n",
    "    i = 2\n",
    "    while i <= max:\n",
    "        if n % i == 0:\n",
    "            return False\n",
    "        i += 1\n",
    "    return True\n",
    "\n",
    "def sum_primes(n):\n",
    "    \"\"\"Calculates sum of all primes below given integer n\"\"\"\n",
    "    return sum([x for x in range(2,n) if isprime(x)])"
   ]
  },
  {
   "cell_type": "code",
   "execution_count": 5,
   "metadata": {},
   "outputs": [],
   "source": [
    "job_server = pp.Server(7)"
   ]
  },
  {
   "cell_type": "code",
   "execution_count": 6,
   "metadata": {},
   "outputs": [],
   "source": [
    "inputs = (100000, 100100, 100200, 100300, 100400, 100500, 100600, 100700, 100800, 100900, 101000, 101100, 101200,\n",
    "          101300, 101400, 101500, 101600, 101700, 101800, 101900)"
   ]
  },
  {
   "cell_type": "code",
   "execution_count": 7,
   "metadata": {},
   "outputs": [],
   "source": [
    "jobs = [(input, job_server.submit(sum_primes,(input,), (isprime,), (\"math\",))) for input in inputs]"
   ]
  },
  {
   "cell_type": "code",
   "execution_count": 8,
   "metadata": {},
   "outputs": [
    {
     "name": "stdout",
     "output_type": "stream",
     "text": [
      "Sum of primes below 100000 is 454396537\n",
      "Sum of primes below 100100 is 454996777\n",
      "Sum of primes below 100200 is 455898156\n",
      "Sum of primes below 100300 is 456700218\n",
      "Sum of primes below 100400 is 457603451\n",
      "Sum of primes below 100500 is 458407033\n",
      "Sum of primes below 100600 is 459412387\n",
      "Sum of primes below 100700 is 460217613\n",
      "Sum of primes below 100800 is 460922892\n",
      "Sum of primes below 100900 is 461527856\n",
      "Sum of primes below 101000 is 462537338\n",
      "Sum of primes below 101100 is 463244679\n",
      "Sum of primes below 101200 is 464458409\n",
      "Sum of primes below 101300 is 465470929\n",
      "Sum of primes below 101400 is 466383154\n",
      "Sum of primes below 101500 is 467194778\n",
      "Sum of primes below 101600 is 468311737\n",
      "Sum of primes below 101700 is 469124909\n",
      "Sum of primes below 101800 is 470142383\n",
      "Sum of primes below 101900 is 471059074\n"
     ]
    }
   ],
   "source": [
    "for input, job in jobs:\n",
    "    print(\"Sum of primes below\", input, \"is\", job())"
   ]
  },
  {
   "cell_type": "code",
   "execution_count": 9,
   "metadata": {},
   "outputs": [
    {
     "name": "stdout",
     "output_type": "stream",
     "text": [
      "Job execution statistics:\n",
      " job count | % of all jobs | job time sum | time per job | job server\n",
      "        20 |        100.00 |      13.2773 |     0.663867 | local\n",
      "Time elapsed since server creation 44.01932096481323\n",
      "0 active tasks, 7 cores\n",
      "\n"
     ]
    }
   ],
   "source": [
    "job_server.print_stats()"
   ]
  },
  {
   "cell_type": "code",
   "execution_count": null,
   "metadata": {},
   "outputs": [],
   "source": []
  }
 ],
 "metadata": {
  "kernelspec": {
   "display_name": "Python 3",
   "language": "python",
   "name": "python3"
  },
  "language_info": {
   "codemirror_mode": {
    "name": "ipython",
    "version": 3
   },
   "file_extension": ".py",
   "mimetype": "text/x-python",
   "name": "python",
   "nbconvert_exporter": "python",
   "pygments_lexer": "ipython3",
   "version": "3.7.0"
  }
 },
 "nbformat": 4,
 "nbformat_minor": 2
}
